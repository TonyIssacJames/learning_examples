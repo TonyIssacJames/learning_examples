{
 "cells": [
  {
   "cell_type": "code",
   "execution_count": 55,
   "metadata": {
    "collapsed": false
   },
   "outputs": [
    {
     "data": {
      "text/plain": [
       "'\\nThese examples are from text books, copyright licence might be applicable\\nwhoever uses this code should take the responsiblity related to copyrights\\n'"
      ]
     },
     "execution_count": 55,
     "metadata": {},
     "output_type": "execute_result"
    }
   ],
   "source": [
    "#Warning\n",
    "'''\n",
    "These examples are from text books, copyright licence might be applicable\n",
    "whoever uses this code should take the responsiblity related to copyrights\n",
    "'''"
   ]
  },
  {
   "cell_type": "code",
   "execution_count": 56,
   "metadata": {
    "collapsed": true
   },
   "outputs": [],
   "source": [
    "import tensorflow as tf\n",
    "from tensorflow.examples.tutorials.mnist import input_data"
   ]
  },
  {
   "cell_type": "code",
   "execution_count": 57,
   "metadata": {
    "collapsed": false
   },
   "outputs": [
    {
     "name": "stdout",
     "output_type": "stream",
     "text": [
      "tf.__version__ =  1.2.1\n"
     ]
    }
   ],
   "source": [
    "print(\"tf.__version__ = \", tf.__version__)"
   ]
  },
  {
   "cell_type": "code",
   "execution_count": 58,
   "metadata": {
    "collapsed": false
   },
   "outputs": [
    {
     "name": "stdout",
     "output_type": "stream",
     "text": [
      "Extracting /tmp/data/train-images-idx3-ubyte.gz\n",
      "Extracting /tmp/data/train-labels-idx1-ubyte.gz\n",
      "Extracting /tmp/data/t10k-images-idx3-ubyte.gz\n",
      "Extracting /tmp/data/t10k-labels-idx1-ubyte.gz\n"
     ]
    }
   ],
   "source": [
    "mnist = input_data.read_data_sets(\"/tmp/data/\",one_hot=True)"
   ]
  },
  {
   "cell_type": "markdown",
   "metadata": {},
   "source": [
    "### parameters for the training "
   ]
  },
  {
   "cell_type": "code",
   "execution_count": 59,
   "metadata": {
    "collapsed": true
   },
   "outputs": [],
   "source": [
    "learning_rate   = 0.001\n",
    "training_epochs = 20\n",
    "batch_size      = 100\n",
    "display_step    = 1"
   ]
  },
  {
   "cell_type": "markdown",
   "metadata": {},
   "source": [
    "### defining nueral network"
   ]
  },
  {
   "cell_type": "code",
   "execution_count": 60,
   "metadata": {
    "collapsed": true
   },
   "outputs": [],
   "source": [
    "n_nodes_hl_1 = 500\n",
    "n_nodes_hl_2 = 500\n",
    "n_nodes_hl_3 = 500\n",
    "\n",
    "n_classes = 10\n",
    "n_input = 784 #img shape 28x28"
   ]
  },
  {
   "cell_type": "code",
   "execution_count": 61,
   "metadata": {
    "collapsed": true
   },
   "outputs": [],
   "source": [
    "n_nodes_hl_1 = 256\n",
    "n_nodes_hl_2 = 256\n",
    "n_nodes_hl_3 = 256"
   ]
  },
  {
   "cell_type": "code",
   "execution_count": 62,
   "metadata": {
    "collapsed": true
   },
   "outputs": [],
   "source": [
    "x = tf.placeholder('float', [None, n_input])\n",
    "y = tf.placeholder('float')"
   ]
  },
  {
   "cell_type": "markdown",
   "metadata": {},
   "source": [
    "### defining the layers "
   ]
  },
  {
   "cell_type": "code",
   "execution_count": 63,
   "metadata": {
    "collapsed": true
   },
   "outputs": [],
   "source": [
    "weights_hl_1 = tf.Variable(tf.random_normal([n_input, n_nodes_hl_1]))\n",
    "biases_hl_1  = tf.Variable(tf.random_normal([n_nodes_hl_1]))\n",
    "\n",
    "weights_hl_2 = tf.Variable(tf.random_normal([n_nodes_hl_1, n_nodes_hl_2]))\n",
    "biases_hl_2  = tf.Variable(tf.random_normal([n_nodes_hl_2]))\n",
    "\n",
    "weights_op = tf.Variable(tf.random_normal([n_nodes_hl_2, n_classes]))\n",
    "biases_ol  = tf.Variable(tf.random_normal([n_classes]))\n",
    "\n",
    "hidden_layer_1 = tf.nn.sigmoid(tf.add(tf.matmul(x, weights_hl_1), biases_hl_1))\n",
    "hidden_layer_2 = tf.nn.sigmoid(tf.add(tf.matmul(hidden_layer_1, weights_hl_2), biases_hl_2))\n",
    "output_layer   = tf.nn.sigmoid(tf.add(tf.matmul(hidden_layer_2, weights_op), biases_ol))"
   ]
  },
  {
   "cell_type": "markdown",
   "metadata": {},
   "source": [
    "###  cost and optimization"
   ]
  },
  {
   "cell_type": "code",
   "execution_count": 64,
   "metadata": {
    "collapsed": false
   },
   "outputs": [],
   "source": [
    "cost = tf.reduce_mean(tf.nn.softmax_cross_entropy_with_logits(logits=output_layer, labels=y))\n",
    "#can only be called with labels on Tensoflow 1 and above\n"
   ]
  },
  {
   "cell_type": "code",
   "execution_count": 65,
   "metadata": {
    "collapsed": false
   },
   "outputs": [],
   "source": [
    "optimizer = tf.train.AdamOptimizer(learning_rate=learning_rate).minimize(cost)"
   ]
  },
  {
   "cell_type": "code",
   "execution_count": 66,
   "metadata": {
    "collapsed": false
   },
   "outputs": [
    {
     "name": "stdout",
     "output_type": "stream",
     "text": [
      "WARNING:tensorflow:From /home/tensorflow/anaconda3/lib/python3.5/site-packages/tensorflow/python/util/tf_should_use.py:170: initialize_all_variables (from tensorflow.python.ops.variables) is deprecated and will be removed after 2017-03-02.\n",
      "Instructions for updating:\n",
      "Use `tf.global_variables_initializer` instead.\n"
     ]
    }
   ],
   "source": [
    "init = tf.initialize_all_variables()"
   ]
  },
  {
   "cell_type": "markdown",
   "metadata": {},
   "source": [
    "#### Setup plot parameters "
   ]
  },
  {
   "cell_type": "code",
   "execution_count": 67,
   "metadata": {
    "collapsed": true
   },
   "outputs": [],
   "source": [
    "avg_cost_set = []\n",
    "epoch_set =[]"
   ]
  },
  {
   "cell_type": "markdown",
   "metadata": {},
   "source": [
    "### Launching the training cycle "
   ]
  },
  {
   "cell_type": "code",
   "execution_count": 68,
   "metadata": {
    "collapsed": false
   },
   "outputs": [
    {
     "name": "stdout",
     "output_type": "stream",
     "text": [
      "Starting Epoch: 0001\n",
      "Epoch: 0001 cost== 1.773214249\n",
      "Starting Epoch: 0002\n",
      "Epoch: 0002 cost== 1.587331720\n",
      "Starting Epoch: 0003\n",
      "Epoch: 0003 cost== 1.552906220\n",
      "Starting Epoch: 0004\n",
      "Epoch: 0004 cost== 1.533865256\n",
      "Starting Epoch: 0005\n",
      "Epoch: 0005 cost== 1.521621288\n",
      "Starting Epoch: 0006\n",
      "Epoch: 0006 cost== 1.513340656\n",
      "Starting Epoch: 0007\n",
      "Epoch: 0007 cost== 1.507097513\n",
      "Starting Epoch: 0008\n",
      "Epoch: 0008 cost== 1.502125956\n",
      "Starting Epoch: 0009\n",
      "Epoch: 0009 cost== 1.497956575\n",
      "Starting Epoch: 0010\n",
      "Epoch: 0010 cost== 1.494800184\n",
      "Starting Epoch: 0011\n",
      "Epoch: 0011 cost== 1.491846863\n",
      "Starting Epoch: 0012\n",
      "Epoch: 0012 cost== 1.489514113\n",
      "Starting Epoch: 0013\n",
      "Epoch: 0013 cost== 1.487394436\n",
      "Starting Epoch: 0014\n",
      "Epoch: 0014 cost== 1.485472254\n",
      "Starting Epoch: 0015\n",
      "Epoch: 0015 cost== 1.483914583\n",
      "Starting Epoch: 0016\n",
      "Epoch: 0016 cost== 1.482391543\n",
      "Starting Epoch: 0017\n",
      "Epoch: 0017 cost== 1.481229649\n",
      "Starting Epoch: 0018\n",
      "Epoch: 0018 cost== 1.480149074\n",
      "Starting Epoch: 0019\n",
      "Epoch: 0019 cost== 1.479164307\n",
      "Starting Epoch: 0020\n",
      "Epoch: 0020 cost== 1.478312276\n",
      "Training Phase Finished\n"
     ]
    }
   ],
   "source": [
    "with tf.Session() as sess:\n",
    "    sess.run(init)\n",
    "\n",
    "    for epoch in range(training_epochs):\n",
    "        print(\"Starting Epoch:\",'%04d' %(epoch+1))\n",
    "        average_cost = 0.0\n",
    "        total_batch  = int(mnist.train.num_examples/batch_size)\n",
    "\n",
    "        for i in range(total_batch):\n",
    "            batch_x, batch_y = mnist.train.next_batch(batch_size)\n",
    "            # chunk the data for you, in reality we have to create variables like this\n",
    "            sess.run(optimizer, feed_dict={x: batch_x, y: batch_y})\n",
    "            \n",
    "            \n",
    "            average_cost += sess.run(cost, feed_dict={x: batch_x, y: batch_y})/total_batch\n",
    "            #print (\"Training :\", i)\n",
    "            \n",
    "        #Display logs per epoch\n",
    "        if epoch % display_step == 0:\n",
    "            print (\"Epoch:\", '%04d' %(epoch+1),\"cost==\",\"{:.9f}\".format(average_cost))\n",
    "            \n",
    "        #get values into the sets\n",
    "        avg_cost_set.append(average_cost)\n",
    "        epoch_set.append(epoch + 1)\n",
    "                \n",
    "print (\"Training Phase Finished\")\n",
    "    "
   ]
  },
  {
   "cell_type": "code",
   "execution_count": 52,
   "metadata": {
    "collapsed": false
   },
   "outputs": [
    {
     "name": "stdout",
     "output_type": "stream",
     "text": [
      "cost== Tensor(\"add_1649:0\", shape=(), dtype=float32)\n"
     ]
    }
   ],
   "source": [
    "print (\"cost==\",average_cost)"
   ]
  },
  {
   "cell_type": "code",
   "execution_count": null,
   "metadata": {
    "collapsed": true
   },
   "outputs": [],
   "source": []
  }
 ],
 "metadata": {
  "anaconda-cloud": {},
  "kernelspec": {
   "display_name": "Python [conda root]",
   "language": "python",
   "name": "conda-root-py"
  },
  "language_info": {
   "codemirror_mode": {
    "name": "ipython",
    "version": 3
   },
   "file_extension": ".py",
   "mimetype": "text/x-python",
   "name": "python",
   "nbconvert_exporter": "python",
   "pygments_lexer": "ipython3",
   "version": "3.5.2"
  }
 },
 "nbformat": 4,
 "nbformat_minor": 1
}
