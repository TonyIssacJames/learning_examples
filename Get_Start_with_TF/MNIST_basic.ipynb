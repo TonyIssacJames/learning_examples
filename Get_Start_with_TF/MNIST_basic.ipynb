{
 "cells": [
  {
   "cell_type": "code",
   "execution_count": 1,
   "metadata": {
    "collapsed": false
   },
   "outputs": [
    {
     "data": {
      "text/plain": [
       "'\\nThese examples are from text books, copyright licence might be applicable\\nwhoever uses this code should take the responsiblity related to copyrights\\n'"
      ]
     },
     "execution_count": 1,
     "metadata": {},
     "output_type": "execute_result"
    }
   ],
   "source": [
    "#Warning\n",
    "'''\n",
    "These examples are from text books, copyright licence might be applicable\n",
    "whoever uses this code should take the responsiblity related to copyrights\n",
    "'''"
   ]
  },
  {
   "cell_type": "code",
   "execution_count": 3,
   "metadata": {
    "collapsed": false
   },
   "outputs": [],
   "source": [
    "import tensorflow as tf\n",
    "from tensorflow.examples.tutorials.mnist import input_data"
   ]
  },
  {
   "cell_type": "code",
   "execution_count": 4,
   "metadata": {
    "collapsed": false
   },
   "outputs": [
    {
     "name": "stdout",
     "output_type": "stream",
     "text": [
      "tf.__version__ =  1.2.1\n"
     ]
    }
   ],
   "source": [
    "print(\"tf.__version__ = \", tf.__version__)"
   ]
  },
  {
   "cell_type": "code",
   "execution_count": 5,
   "metadata": {
    "collapsed": false
   },
   "outputs": [
    {
     "name": "stdout",
     "output_type": "stream",
     "text": [
      "Successfully downloaded train-images-idx3-ubyte.gz 9912422 bytes.\n",
      "Extracting /tmp/data/train-images-idx3-ubyte.gz\n",
      "Successfully downloaded train-labels-idx1-ubyte.gz 28881 bytes.\n",
      "Extracting /tmp/data/train-labels-idx1-ubyte.gz\n",
      "Successfully downloaded t10k-images-idx3-ubyte.gz 1648877 bytes.\n",
      "Extracting /tmp/data/t10k-images-idx3-ubyte.gz\n",
      "Successfully downloaded t10k-labels-idx1-ubyte.gz 4542 bytes.\n",
      "Extracting /tmp/data/t10k-labels-idx1-ubyte.gz\n"
     ]
    }
   ],
   "source": [
    "mnist = input_data.read_data_sets(\"/tmp/data/\",one_hot=True)"
   ]
  },
  {
   "cell_type": "markdown",
   "metadata": {},
   "source": [
    "### parameters for the training "
   ]
  },
  {
   "cell_type": "code",
   "execution_count": 16,
   "metadata": {
    "collapsed": true
   },
   "outputs": [],
   "source": [
    "learning_rate   = 0.001\n",
    "training_epochs = 40\n",
    "batch_size      = 500 #100\n",
    "display_step    = 1"
   ]
  },
  {
   "cell_type": "markdown",
   "metadata": {},
   "source": [
    "\n",
    "### defining nueral network"
   ]
  },
  {
   "cell_type": "code",
   "execution_count": 17,
   "metadata": {
    "collapsed": true
   },
   "outputs": [],
   "source": [
    "n_nodes_hl_1 = 500\n",
    "n_nodes_hl_2 = 500\n",
    "n_nodes_hl_3 = 500\n",
    "\n",
    "n_classes = 10\n",
    "n_input = 784 #img shape 28x28"
   ]
  },
  {
   "cell_type": "code",
   "execution_count": 18,
   "metadata": {
    "collapsed": true
   },
   "outputs": [],
   "source": [
    "#n_nodes_hl_1 = 256\n",
    "#n_nodes_hl_2 = 256\n",
    "#n_nodes_hl_3 = 256"
   ]
  },
  {
   "cell_type": "code",
   "execution_count": 19,
   "metadata": {
    "collapsed": true
   },
   "outputs": [],
   "source": [
    "x = tf.placeholder('float', [None, n_input])\n",
    "y = tf.placeholder('float')"
   ]
  },
  {
   "cell_type": "markdown",
   "metadata": {},
   "source": [
    "### defining the layers "
   ]
  },
  {
   "cell_type": "code",
   "execution_count": 20,
   "metadata": {
    "collapsed": true
   },
   "outputs": [],
   "source": [
    "weights_hl_1 = tf.Variable(tf.random_normal([n_input, n_nodes_hl_1]))\n",
    "biases_hl_1  = tf.Variable(tf.random_normal([n_nodes_hl_1]))\n",
    "\n",
    "weights_hl_2 = tf.Variable(tf.random_normal([n_nodes_hl_1, n_nodes_hl_2]))\n",
    "biases_hl_2  = tf.Variable(tf.random_normal([n_nodes_hl_2]))\n",
    "\n",
    "weights_op = tf.Variable(tf.random_normal([n_nodes_hl_2, n_classes]))\n",
    "biases_ol  = tf.Variable(tf.random_normal([n_classes]))\n",
    "\n",
    "hidden_layer_1 = tf.nn.sigmoid(tf.add(tf.matmul(x, weights_hl_1), biases_hl_1))\n",
    "hidden_layer_2 = tf.nn.sigmoid(tf.add(tf.matmul(hidden_layer_1, weights_hl_2), biases_hl_2))\n",
    "output_layer   = tf.nn.sigmoid(tf.add(tf.matmul(hidden_layer_2, weights_op), biases_ol))"
   ]
  },
  {
   "cell_type": "markdown",
   "metadata": {},
   "source": [
    "###  cost and optimization"
   ]
  },
  {
   "cell_type": "code",
   "execution_count": 21,
   "metadata": {
    "collapsed": false
   },
   "outputs": [],
   "source": [
    "cost = tf.reduce_mean(tf.nn.softmax_cross_entropy_with_logits(logits=output_layer, labels=y))\n",
    "#can only be called with labels on Tensoflow 1 and above\n"
   ]
  },
  {
   "cell_type": "code",
   "execution_count": 22,
   "metadata": {
    "collapsed": false
   },
   "outputs": [],
   "source": [
    "optimizer = tf.train.AdamOptimizer(learning_rate=learning_rate).minimize(cost)"
   ]
  },
  {
   "cell_type": "code",
   "execution_count": 23,
   "metadata": {
    "collapsed": false
   },
   "outputs": [
    {
     "name": "stdout",
     "output_type": "stream",
     "text": [
      "WARNING:tensorflow:From /home/tensorflow/anaconda3/lib/python3.5/site-packages/tensorflow/python/util/tf_should_use.py:170: initialize_all_variables (from tensorflow.python.ops.variables) is deprecated and will be removed after 2017-03-02.\n",
      "Instructions for updating:\n",
      "Use `tf.global_variables_initializer` instead.\n"
     ]
    }
   ],
   "source": [
    "init = tf.initialize_all_variables()"
   ]
  },
  {
   "cell_type": "markdown",
   "metadata": {},
   "source": [
    "#### Setup plot parameters "
   ]
  },
  {
   "cell_type": "code",
   "execution_count": 24,
   "metadata": {
    "collapsed": true
   },
   "outputs": [],
   "source": [
    "avg_cost_set = []\n",
    "epoch_set =[]"
   ]
  },
  {
   "cell_type": "markdown",
   "metadata": {},
   "source": [
    "### Launching the training cycle "
   ]
  },
  {
   "cell_type": "code",
   "execution_count": 29,
   "metadata": {
    "collapsed": false
   },
   "outputs": [
    {
     "name": "stdout",
     "output_type": "stream",
     "text": [
      "Epoch: 0001 cost== 1.921654816\n",
      "Epoch: 0002 cost== 1.679068668\n",
      "Epoch: 0003 cost== 1.641764638\n",
      "Epoch: 0004 cost== 1.617389360\n",
      "Epoch: 0005 cost== 1.570530098\n",
      "Epoch: 0006 cost== 1.544072159\n",
      "Epoch: 0007 cost== 1.531368871\n",
      "Epoch: 0008 cost== 1.524066950\n",
      "Epoch: 0009 cost== 1.518267192\n",
      "Epoch: 0010 cost== 1.513803681\n",
      "Epoch: 0011 cost== 1.510873842\n",
      "Epoch: 0012 cost== 1.507380051\n",
      "Epoch: 0013 cost== 1.505735301\n",
      "Epoch: 0014 cost== 1.503920737\n",
      "Epoch: 0015 cost== 1.501858058\n",
      "Epoch: 0016 cost== 1.500053884\n",
      "Epoch: 0017 cost== 1.498894649\n",
      "Epoch: 0018 cost== 1.497525052\n",
      "Epoch: 0019 cost== 1.496515682\n",
      "Epoch: 0020 cost== 1.495589229\n",
      "Epoch: 0021 cost== 1.495196370\n",
      "Epoch: 0022 cost== 1.494024447\n",
      "Epoch: 0023 cost== 1.493027140\n",
      "Epoch: 0024 cost== 1.492738753\n",
      "Epoch: 0025 cost== 1.491987628\n",
      "Epoch: 0026 cost== 1.491099430\n",
      "Epoch: 0027 cost== 1.490710355\n",
      "Epoch: 0028 cost== 1.489745859\n",
      "Epoch: 0029 cost== 1.489299626\n",
      "Epoch: 0030 cost== 1.488522457\n",
      "Epoch: 0031 cost== 1.488152331\n",
      "Epoch: 0032 cost== 1.487452925\n",
      "Epoch: 0033 cost== 1.487033611\n",
      "Epoch: 0034 cost== 1.486805119\n",
      "Epoch: 0035 cost== 1.486020947\n",
      "Epoch: 0036 cost== 1.485983397\n",
      "Epoch: 0037 cost== 1.485120144\n",
      "Epoch: 0038 cost== 1.485071054\n",
      "Epoch: 0039 cost== 1.484646085\n",
      "Epoch: 0040 cost== 1.484385645\n",
      "Training Phase Finished\n",
      "===========================\n",
      "Test Model Accuracy:  0.9451\n",
      "training_epochs:  40 n_nodes_hl_1:  500 batch_size:  500\n"
     ]
    }
   ],
   "source": [
    "with tf.Session() as sess:\n",
    "    sess.run(init)\n",
    "\n",
    "    for epoch in range(training_epochs):\n",
    "        #print(\"Starting Epoch:\",'%04d' %(epoch+1))\n",
    "        average_cost = 0.0\n",
    "        total_batch  = int(mnist.train.num_examples/batch_size)\n",
    "\n",
    "        for i in range(total_batch):\n",
    "            batch_x, batch_y = mnist.train.next_batch(batch_size)\n",
    "            # chunk the data for you, in reality we have to create variables like this\n",
    "            sess.run(optimizer, feed_dict={x: batch_x, y: batch_y})\n",
    "            \n",
    "            \n",
    "            average_cost += sess.run(cost, feed_dict={x: batch_x, y: batch_y})/total_batch\n",
    "            #print (\"Training :\", i)\n",
    "            \n",
    "        #Display logs per epoch\n",
    "        if epoch % display_step == 0:\n",
    "            print (\"Epoch:\", '%04d' %(epoch+1),\"cost==\",\"{:.9f}\".format(average_cost))\n",
    "            \n",
    "        #get values into the sets\n",
    "        avg_cost_set.append(average_cost)\n",
    "        epoch_set.append(epoch + 1)\n",
    "                \n",
    "    print (\"Training Phase Finished\")\n",
    "    \n",
    "    #Calculate accuracy\n",
    "    correct_prediction = tf.equal(tf.arg_max(output_layer, 1), tf.arg_max(y, 1))\n",
    "    \n",
    "    accuracy = tf.reduce_mean(tf.cast(correct_prediction, \"float\"))\n",
    "\n",
    "    print(\"===========================\")\n",
    "    print(\"Test Model Accuracy: \",accuracy.eval(feed_dict={x:mnist.test.images, y:mnist.test.labels}))\n",
    "    print(\"training_epochs: \",training_epochs, \"n_nodes_hl_1: \", n_nodes_hl_1, \"batch_size: \",batch_size)\n",
    "    "
   ]
  },
  {
   "cell_type": "code",
   "execution_count": null,
   "metadata": {
    "collapsed": true
   },
   "outputs": [],
   "source": []
  }
 ],
 "metadata": {
  "anaconda-cloud": {},
  "kernelspec": {
   "display_name": "Python [conda root]",
   "language": "python",
   "name": "conda-root-py"
  },
  "language_info": {
   "codemirror_mode": {
    "name": "ipython",
    "version": 3
   },
   "file_extension": ".py",
   "mimetype": "text/x-python",
   "name": "python",
   "nbconvert_exporter": "python",
   "pygments_lexer": "ipython3",
   "version": "3.5.2"
  }
 },
 "nbformat": 4,
 "nbformat_minor": 1
}
